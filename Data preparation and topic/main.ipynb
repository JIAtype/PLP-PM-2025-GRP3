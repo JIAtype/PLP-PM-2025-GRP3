{
 "cells": [
  {
   "cell_type": "code",
   "execution_count": null,
   "metadata": {},
   "outputs": [],
   "source": [
    "blogger_name = [\"Fully Charged Show\",\"Bjorn Nyland\", \"Electric Vehicle Man\", \"EV Review Ireland\",\"Now You Know\",\"E for Electric\", \"Transport Evolved\", \"EVgo\", \"Out of Spec Motoring\",\"Teslanomics\"]"
   ]
  },
  {
   "cell_type": "code",
   "execution_count": null,
   "metadata": {},
   "outputs": [],
   "source": [
    "\"PLjc2gh_1SxK1K85QpQ4hgvwkrBZlis8MD\": {\n",
    "            \"hjd_bHKcG90\": {\n",
    "                \"video_title\": \"\",\n",
    "                \"video_time\": \"\",\n",
    "                \"comments\": \"\",\n",
    "                \"captions\": \"\",\n",
    "                \"topics\": \"\"\n",
    "            }\n",
    "        }"
   ]
  }
 ],
 "metadata": {
  "kernelspec": {
   "display_name": "ml_env",
   "language": "python",
   "name": "python3"
  },
  "language_info": {
   "name": "python",
   "version": "3.9.15"
  }
 },
 "nbformat": 4,
 "nbformat_minor": 2
}
